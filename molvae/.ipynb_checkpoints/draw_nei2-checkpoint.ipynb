{
 "cells": [
  {
   "cell_type": "code",
   "execution_count": null,
   "metadata": {},
   "outputs": [],
   "source": [
    "!python draw_nei.py  --vocab ../data/zinc/vocab.txt \\\n",
    "--hidden 450 --depth 3 --latent 56 \\\n",
    "--model vae_model_1/model.iter-1-5000"
   ]
  },
  {
   "cell_type": "code",
   "execution_count": null,
   "metadata": {},
   "outputs": [],
   "source": [
    "nei_mols = ['CC1=CC(Nc2cccc(-c3nnc(C)[nH]3)c2)c2ncc(C)cc2CO1', 'Cc1cccc(-n2cnnc2C)c1Cn1c[nH+]c(C(C)C)c1', 'Cc1nnc(C)n1-c1cccc(Cn2cc[nH+]c2C2CCC(C)C2)c1', 'Cc1nnc(C)n1-c1cccc(Cn2cc[nH+]c2C2CCC(C)C2)c1', 'Cc1nncn1-c1cccc(Cn2cc[nH+]c2C2CCC(C)C2)c1', 'CC1CCC(Nc2cccc(-c3nncn3C)c2)CC(C)C1', 'CC1CCC(Nc2cccc(-c3nncn3C)c2)CC(C)C1', 'CC1CCC(Nc2cccc(-c3nncn3C)c2)CC(C)C1', 'CC1CC(C)CC(CNc2cccc(-c3nncn3C)n2)C1', 'CC1CC(C)CC(CNc2cccc(-c3nncn3C)n2)C1', 'CC1CC(C)CC(CNc2cccc(-c3nncn3C)n2)C1', 'CC1CC(C)CC(CNc2cccc(-c3nncn3C)n2)C1', 'CC1CCC(C)C[NH+](Cc2cccc(-n3cnnc3N)c2)C1', 'Cc1nnc(SCc2ccn(C3CC(C)OC3C)n2)n1C', 'Cc1nncn1-c1cc2ccccc2cc1Cn1c[nH+]c(C(C)C)c1', 'Cc1nnc(C)n1-c1cccc(Cn2cc[nH+]c2C2CCC(C)C2)c1', 'Cc1nncn1-c1cccc(Cn2cc[nH+]c2C2CCC(C)C2)c1', 'Cc1nncn1-c1cccc(Cn2cc[nH+]c2C2CCC(C)C2)c1', 'CC1CC(C)CC(Nc2cncc(-c3nncn3C)c2)C1', 'CC1Cc2ccccc2C(CNc2ccnc(-c3nncn3C)c2)C1', 'CC1CC(C)CC(CNc2ccnc(-c3nncn3C)c2)C1', 'CC1CC(C)CC(CNc2cccc(-c3nncn3C)n2)C1', 'CC1CC(C)CC(CNc2cccc(-c3nncn3C)n2)C1', 'CC1CC(C)CC(CNc2cccc(-c3nncn3C)n2)C1', 'CC1CC(C)CC(CNc2cccc(-c3nncn3C)n2)C1', 'CC1CC[NH+](CC2CC(n3cnnc3N)CCO2)C1', 'Cc1nnc(SCc2ccn(C3CC(C)OC3C)n2)n1C', 'Cc1nncn1-c1cc(Cn2cc[nH+]c2C(C)C)cc2c1CC(C)OC2', 'Cc1nncn1-c1cc(Cn2c[nH+]c(C(C)C)c2)cc2ccccc12', 'Cc1nncn1-c1cccc(Cn2c(C)[nH+]c3c2CCC(C)C3)c1', 'Cc1nncn1-c1cccc(Cn2c(C)[nH+]c3c2CCC(C)C3)c1', 'CC1CC(C)CC(Nc2cncc(-c3nncn3C)c2)C1', 'CC1CC(C)CC(Nc2cncc(-c3nncn3C)c2)C1', 'CC1CC(C)CC(Nc2cncc(-c3nncn3C)c2)C1', 'CC1Cc2ccccc2C(CNc2ccnc(-c3nncn3C)c2)C1', 'CC1Cc2ccccc2C(CNc2cccc(-c3nncn3C)n2)C1', 'CC1CC(C)CC(CNc2cccc(-c3nncn3C)n2)C1', 'CC1CC[NH+](CC2CC(n3cnnc3N)CCO2)C1', 'CC1CC[NH+](CC2CC(n3cnnc3N)CCO2)C1', 'Cc1nnc(SCc2ccn(C3CC(C)OC3C)n2)n1C', 'Cc1nncn1-c1ccccc1Cn1c(C)[nH+]c2c1CCC1(CCCC1)C2', 'Cc1nncn1-c1cccc(Cn2c(C)[nH+]c3c2CCC2(CCCC2)C3)c1', 'Cc1nncn1-c1cccc(Cn2c(C)[nH+]c3c2CCC2(CCCC2)C3)c1', 'CC1CC(C)CC(Nc2cncc(-c3nncn3C)c2)C1', 'CC1CC(C)CC(Nc2cncc(-c3nncn3C)c2)C1', 'CC1CC(C)CC(Nc2cncc(-c3nncn3C)c2)C1', 'CC1CC(C)CC(Nc2cncc(-c3nncn3C)c2)C1', 'CC1CC(C)CC(Nc2cncc(-c3nncn3C)c2)C1', 'CC1Cc2ccccc2C(CNc2cncc(-c3nncn3C)c2)C1', 'CC1Cc2ccccc2C(CNc2cncc(-c3nncn3C)c2)C1', 'CC1C[NH+](Cc2cccnc2-n2cnnc2N)CCO1', 'Cc1nnc(NC2CCOC(CS(C)(=O)=O)C2)n1C', 'Cc1ccc(-n2cnnc2C)cc1Cn1c[nH+]c2c1C1(C)CCC2C1', 'Cc1nncn1-c1cccc(Cn2c(C)[nH+]c3c2CCC2(CCCC2)C3)c1', 'Cc1nncn1-c1ccncc1CN1CC(C)SC(C)(C)C1', 'CC1CC(C)CC(Nc2cncc(-c3nncn3C)c2)C1', 'CC1CC(C)CC(Nc2cncc(-c3nncn3C)c2)C1', 'CC1CC(C)CC(Nc2cncc(-c3nncn3C)c2)C1', 'CC1CC(C)CC(Nc2cncc(-c3nncn3C)c2)C1', 'CC1CC(C)CC(Nc2cncc(-c3nncn3C)c2)C1', 'CC1CC(C)CC(Nc2cncc(-c3nncn3C)c2)C1', 'CC1CC(C)CC(Nc2cncc(-c3nncn3C)c2)C1', 'CC1CC(C)CC(Nc2cncc(-c3nncn3C)c2)C1', 'Cc1nnc(NC2CCOC(CS(C)(=O)=O)C2)n1C', 'CC(C)C1CC(Nc2nnc(S(C)=O)n2C)CCO1', 'Cc1nncn1-c1ccncc1CN1CC(C)(C)SCC1C', 'Cc1nncn1-c1ccncc1CN1CC(C)(C)SCC1C', 'CC1CCC(Nc2cncc(-c3nncn3C)c2)C(C)C1', 'CC1CC(C)CC(Nc2cncc(-c3nncn3C)c2)C1', 'CC1CC(C)CC(Nc2cncc(-c3nncn3C)c2)C1', 'CC1CC(C)CC(Nc2cncc(-c3nncn3C)c2)C1', 'CC1CC(C)CC(Nc2cncc(-c3nncn3C)c2)C1', 'CC1CC(C)CC(Nc2cncc(-c3nncn3C)c2)C1', 'CC1CC(C)CC(Nc2cncc(-c3nncn3C)c2)C1', 'CC1CC(C)CC(Nc2cncc(-c3nncn3C)c2)C1', 'CC1CC(C)CC(Nc2cncc(-c3nncn3C)c2)C1', 'CC1CC(C)CC(c2cncc(Nc3nncn3C)c2)C1', 'CC(C)C1CC(Nc2nnc(S(C)=O)n2C)CCO1', 'Cc1nnc(C)n1-c1ccncc1CN1C=CC(C)C1', 'CC1CCC(Nc2cncc(-c3nncn3C)c2)C(C)C1', 'CC1CCC(Nc2cncc(-c3nncn3C)c2)C(C)C1', 'CC1CC(C)CC(Nc2cncc(-c3nncn3C)c2)C1', 'CC1CC(C)CC(Nc2cncc(-c3nncn3C)c2)C1', 'CC1CC(C)CC(Nc2cncc(-c3nncn3C)c2)C1', 'CC1CC(C)CC(Nc2cncc(-c3nncn3C)c2)C1', 'CC1CC(C)CC(Nc2cncc(-c3nncn3C)c2)C1', 'CC1CC(C)CC(Nc2cncc(-c3nncn3C)c2)C1', 'CC1CC(C)CC(Nc2cncc(-c3nncn3C)c2)C1', 'CC1CN(Cc2ccnc(-n3cnnc3N)c2)CC(C)S1', 'CC1CC(C)CC(c2cncc(Nc3nncn3C)c2)C1', 'CC(=O)C1CC(Nc2nncn2C)c2cccc(C)c2O1', 'CC1CCC(Nc2cncc(-c3nncn3C)c2)C(C)C1', 'CC1CCC(Nc2cncc(-c3nncn3C)c2)C(C)C1', 'CC1CCC(Nc2cncc(-c3nncn3C)c2)C(C)C1', 'CC1CCC(Nc2cncc(-c3nncn3C)c2)C(C)C1', 'CC1CC(C)CC(Nc2cncc(-c3nncn3C)c2)C1', 'CC1CC(C)CC(Nc2cncc(-c3nncn3C)c2)C1', 'CC1CC(C)CC(Nc2cncc(-c3nncn3C)c2)C1', 'CC1CC(C)CC(Nc2cncc(-c3nncn3C)c2)C1', 'CC1CC(C)CC(Nc2cncc(-c3nncn3C)c2)C1', 'CC1CC(C)CC(Nc2cncc(-c3nncn3C)c2)C1', 'CC1CC(C)CC(c2cncc(Nc3nncn3C)c2)C1', 'CC1CC(C)CC(c2cncc(Nc3nncn3C)c2)C1', 'CC1CC(C)CC(c2cncc(Nc3nncn3C)c2)C1', 'CC1CCC(Nc2cncc(-c3nncn3C)c2)C(C)C1', 'CC1CCC(Nc2cncc(-c3nncn3C)c2)C(C)C1', 'CC1CCC(Nc2cncc(-c3nncn3C)c2)C(C)C1', 'CC1CCC(Nc2cncc(-c3nncn3C)c2)C(C)C1', 'CC1CCC(Nc2cncc(-c3nncn3C)c2)C(C)C1', 'CC1CC(C)CC(Nc2cncc(-c3nncn3C)c2)C1', 'CC1CC(C)CC(Nc2cncc(-c3nncn3C)c2)C1', 'CC1CC(C)CC(Nc2cncc(-c3nncn3C)c2)C1', 'CC1CC(C)CC(Nc2cc(-c3nncn3C)ccn2)C1', 'CC1CC(C)CC(Nc2cc(-c3nncn3C)ccn2)C1', 'CC(=O)c1ncc(Nc2nncn2C)c2c1CCC2', 'CC(=O)c1cc(Nc2nncn2C)c2c(n1)CCC2', 'Cn1cnnc1Nc1cc(C2(C)COCO2)nc2c1CCC=C2', 'CC1Cc2nn(C)cc2CC1Nc1ccc(-c2nncn2C)nc1', 'CC1CCC(Nc2cncc(-c3nncn3C)c2)C(C)C1', 'CC1CCC(Nc2cncc(-c3nncn3C)c2)C(C)C1', 'CC1CCC(Nc2cncc(-c3nncn3C)c2)C(C)C1', 'CC1CCC(Nc2cncc(-c3nncn3C)c2)C(C)C1', 'CC1CC(C)CC(Nc2cncc(-c3nncn3C)c2)C1', 'CC1CC(C)CC(Nc2cncc(-c3nncn3C)c2)C1', 'CC1CC(C)CC(Nc2cc(-c3nncn3C)ccn2)C1', 'CC1CC(C)CC(Nc2cc(-c3nncn3C)ccn2)C1', 'CC(=O)c1cnc2c(c1Nc1nncn1C)CCC=C2[NH3+]', 'CC(=O)c1ncc(Nc2nncn2C)c2c1CCC2', 'CC(=O)c1cc(Nc2nncn2C)c2c(n1)C=CC2', 'CC(=O)c1cc(Nc2nncn2C)c2c(n1)C=CC2', 'CC1Cc2ccncc2CC1Nc1ccc(-c2nncn2C)nc1', 'CC1Cc2ccncc2CC1Nc1ccc(-c2nncn2C)nc1', 'CC1Cc2ccncc2CC1Nc1ccc(-c2nncn2C)nc1', 'CC1CCc2cnccc2C1Nc1ccc(-c2nncn2C)nc1', 'CC1Cc2cnccc2C(Nc2ccc(-c3nncn3C)nc2)C1', 'CC1Cc2cnccc2C(Nc2ccc(-c3nncn3C)nc2)C1', 'CC1Cc2cnccc2C(Nc2cnccc2-c2nncn2C)C1', 'CC1CC2C=NC=CC2C(Nc2cc(-c3nncn3C)ccn2)C1', 'CC(=O)NCc1cnc2c(c1-n1cnnc1N)CCC=C2', 'CC(=O)c1cnc2c(c1Nc1nncn1C)CCC=C2[NH3+]', 'CC(=O)c1cnc2c(c1Nc1nncn1C)CCC=C2[NH3+]', 'CC(=O)c1cc(Nc2nncn2C)c2c(n1)C=CC2', 'CC(=O)c1cc(Nc2nnc(N)[nH]2)c2c(n1)C=CC2', 'Cc1ncc(NC2C3CCC(C3)C23CCS(=O)(=O)C3)cc1-c1nncn1C', 'Cc1ncc(NC2C3CCC(C3)C23CCS(=O)(=O)C3)cc1-c1nncn1C', 'Cc1ncc(NC2CC3CCC24CS(=O)(=O)CC34)cc1-c1nncn1C', 'Cc1cncc(NC2CC3CCC24CS(=O)(=O)CC34)c1-c1nncn1C', 'CC1CC2CC1CC2Nc1ncc(-c2nncn2C)c2cn[nH]c12', 'CC1Cc2cnccc2C(Nc2cnccc2-c2nncn2C)C1', 'CC1CC2C=NC=CC2C(Nc2cnccc2-c2nncn2C)C1', 'Cn1cnnc1-c1ccncc1NC1CCCC2(C)C=NC=CC12', 'Cn1cnnc1Nc1cnc(C(N)=O)c2c1C=CC(Br)C2', 'Cn1cnnc1Nc1cnc(C(N)=O)c2c1C=CC(Br)C2', 'Cn1cnnc1Nc1cnc(C(N)=O)c2c1CCC=C2', 'NC(=O)c1ncc(Nc2nnc(N)[nH]2)c2c1C=CC2', 'Nc1nnc(Nc2c(C(=O)[O-])cnc3c2CCC=C3)[nH]1', 'Cc1ncc(NC2C3CCC(C3)C23CCS(=O)(=O)C3)cc1-c1nncn1C', 'Cc1ncc(NC2C3CCC(C3)C23CCS(=O)(=O)C3)cc1-c1nncn1C', 'Cc1cncc(NC2C3CCC(C3)C23CCS(=O)(=O)C3)c1-c1nncn1C', 'Cc1cncc(NC2CC3CCC24CS(=O)(=O)CC34)c1-c1nncn1C', 'Cc1cncc(NC2CC3CCC24CS(=O)(=O)CC34)c1-c1nncn1C', 'Cn1cnnc1-c1c(NC2CC3CC2C2(CCSC2)C3)cnc2[nH]ncc12', 'Cn1cnnc1-c1c(NC2CC3CC2C2CCSC32)cnc2[nH]ncc12', 'Nc1nncn1-c1c(CNC(=O)[O-])cnc2c1CCC=C2', 'Cn1cnnc1Nc1cnc(C(N)=O)c2c1CCC=C2', 'Cn1cnnc1Nc1cnc(C(N)=O)c2c1CCC=C2', 'Cn1cnnc1Nc1cnc(C(N)=O)c2c1CCC=C2', 'NC(=O)c1ncc(Nc2nnc(N)[nH]2)c2c1C=CCC2', 'NC(=O)c1ncc(Nc2nnc(N)[nH]2)c2c1C=CC2']"
   ]
  },
  {
   "cell_type": "code",
   "execution_count": null,
   "metadata": {},
   "outputs": [],
   "source": [
    "nei_mols = [Chem.MolFromSmiles(s) for s in nei_mols]"
   ]
  },
  {
   "cell_type": "code",
   "execution_count": null,
   "metadata": {},
   "outputs": [],
   "source": [
    "from rdkit import Chem, Geometry\n",
    "from rdkit.Chem import AllChem\n",
    "from rdkit.Chem import Draw\n",
    "from rdkit.Chem import rdFMCS\n",
    "from copy import deepcopy\n",
    "\n",
    "# test_mols = nei_mols[65:104]\n",
    "test_mols = nei_mols[78:91]\n",
    "# test_mols = nei_mols[:]\n",
    "mcs1 = rdFMCS.FindMCS(test_mols)\n",
    "\n",
    "def highlight_molecules(molecules, mcs, number, label=True, same_orientation=True):\n",
    "    \"\"\"Highlight the MCS in our query molecules\"\"\"\n",
    "    molecules = deepcopy(molecules)\n",
    "    # convert MCS to molecule\n",
    "    pattern = Chem.MolFromSmarts(mcs.smartsString)\n",
    "    # find the matching atoms in each molecule\n",
    "    matching = [molecule.GetSubstructMatch(pattern) for molecule in molecules[:number]]\n",
    "\n",
    "    # legends = None\n",
    "    # if label is True:\n",
    "    #     legends = [x.GetProp(\"_Name\") for x in molecules]\n",
    "\n",
    "    # Align by matched substructure so they are depicted in the same orientation\n",
    "    # Adapted from: https://gist.github.com/greglandrum/82d9a86acb3b00d3bb1df502779a5810\n",
    "    if same_orientation:\n",
    "        mol, match = molecules[0], matching[0]\n",
    "        AllChem.Compute2DCoords(mol)\n",
    "        coords = [mol.GetConformer().GetAtomPosition(x) for x in match]\n",
    "        coords2D = [Geometry.Point2D(pt.x, pt.y) for pt in coords]\n",
    "        for mol, match in zip(molecules[1:number], matching[1:number]):\n",
    "            if not match:\n",
    "                continue\n",
    "            coord_dict = {match[i]: coord for i, coord in enumerate(coords2D)}\n",
    "            AllChem.Compute2DCoords(mol, coordMap=coord_dict)\n",
    "\n",
    "    return Draw.MolsToGridImage(\n",
    "        molecules[:number],\n",
    "        molsPerRow=13,\n",
    "        highlightAtomLists=matching[:number],\n",
    "        subImgSize=(200, 200),\n",
    "        maxMols = 200,\n",
    "    )\n",
    "\n",
    "highlight_molecules(test_mols, mcs1, len(test_mols))\n"
   ]
  },
  {
   "cell_type": "code",
   "execution_count": null,
   "metadata": {},
   "outputs": [],
   "source": [
    "# Tanimoto similarity across neighbors"
   ]
  },
  {
   "cell_type": "code",
   "execution_count": null,
   "metadata": {},
   "outputs": [],
   "source": [
    "img"
   ]
  },
  {
   "cell_type": "code",
   "execution_count": null,
   "metadata": {},
   "outputs": [],
   "source": [
    "from rdkit import Chem, Geometry\n",
    "from rdkit.Chem import AllChem\n",
    "from rdkit.Chem import Draw\n",
    "from rdkit.Chem import rdFMCS\n",
    "testing = ['[CH3:3][NH2:3]', '[CH3:2][CH:3]([NH2:3])[NH2:4]']\n",
    "\n",
    "testing = [Chem.MolFromSmiles(s) for s in testing]\n",
    "img = Draw.MolsToGridImage(testing, molsPerRow=1, subImgSize=(200,200), useSVG=True)"
   ]
  }
 ],
 "metadata": {
  "interpreter": {
   "hash": "9409c8097ba23d532666f22cb3b5ca5be7c9bc68fd66b84000f784fd7f1e3e58"
  },
  "kernelspec": {
   "display_name": "Python 3 (ipykernel)",
   "language": "python",
   "name": "python3"
  },
  "language_info": {
   "codemirror_mode": {
    "name": "ipython",
    "version": 3
   },
   "file_extension": ".py",
   "mimetype": "text/x-python",
   "name": "python",
   "nbconvert_exporter": "python",
   "pygments_lexer": "ipython3",
   "version": "3.7.13"
  }
 },
 "nbformat": 4,
 "nbformat_minor": 2
}
